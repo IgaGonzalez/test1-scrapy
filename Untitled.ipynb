{
 "cells": [
  {
   "cell_type": "code",
   "execution_count": 7,
   "id": "3454cafc-0fbb-44e1-baea-5b4cb37fcaf2",
   "metadata": {},
   "outputs": [
    {
     "ename": "ModuleNotFoundError",
     "evalue": "No module named 'scrapy_playwright.middleware'",
     "output_type": "error",
     "traceback": [
      "\u001b[31m---------------------------------------------------------------------------\u001b[39m",
      "\u001b[31mModuleNotFoundError\u001b[39m                       Traceback (most recent call last)",
      "\u001b[36mCell\u001b[39m\u001b[36m \u001b[39m\u001b[32mIn[7]\u001b[39m\u001b[32m, line 1\u001b[39m\n\u001b[32m----> \u001b[39m\u001b[32m1\u001b[39m \u001b[38;5;28;01mfrom\u001b[39;00m\u001b[38;5;250m \u001b[39m\u001b[34;01mscrapy_playwright\u001b[39;00m\u001b[34;01m.\u001b[39;00m\u001b[34;01mmiddleware\u001b[39;00m\u001b[38;5;250m \u001b[39m\u001b[38;5;28;01mimport\u001b[39;00m PlaywrightMiddleware\n\u001b[32m      2\u001b[39m \u001b[38;5;28mprint\u001b[39m(\u001b[33m\"\u001b[39m\u001b[33mImport successful!\u001b[39m\u001b[33m\"\u001b[39m)\n",
      "\u001b[31mModuleNotFoundError\u001b[39m: No module named 'scrapy_playwright.middleware'"
     ]
    }
   ],
   "source": [
    "from scrapy_playwright.middleware import PlaywrightMiddleware\n",
    "print(\"Import successful!\")\n"
   ]
  },
  {
   "cell_type": "code",
   "execution_count": 6,
   "id": "088bbb61-3dd5-46d1-8f76-2023eb334cfc",
   "metadata": {},
   "outputs": [
    {
     "name": "stdout",
     "output_type": "stream",
     "text": [
      "Requirement already satisfied: scrapy-playwright in /opt/homebrew/Cellar/jupyterlab/4.3.6/libexec/lib/python3.13/site-packages (0.0.43)\n",
      "Requirement already satisfied: scrapy!=2.4.0,>=2.0 in /opt/homebrew/Cellar/jupyterlab/4.3.6/libexec/lib/python3.13/site-packages (from scrapy-playwright) (2.12.0)\n",
      "Requirement already satisfied: playwright>=1.15 in /opt/homebrew/Cellar/jupyterlab/4.3.6/libexec/lib/python3.13/site-packages (from scrapy-playwright) (1.51.0)\n",
      "Requirement already satisfied: pyee<13,>=12 in /opt/homebrew/Cellar/jupyterlab/4.3.6/libexec/lib/python3.13/site-packages (from playwright>=1.15->scrapy-playwright) (12.1.1)\n",
      "Requirement already satisfied: greenlet<4.0.0,>=3.1.1 in /opt/homebrew/Cellar/jupyterlab/4.3.6/libexec/lib/python3.13/site-packages (from playwright>=1.15->scrapy-playwright) (3.1.1)\n",
      "Requirement already satisfied: Twisted>=21.7.0 in /opt/homebrew/Cellar/jupyterlab/4.3.6/libexec/lib/python3.13/site-packages (from scrapy!=2.4.0,>=2.0->scrapy-playwright) (24.11.0)\n",
      "Requirement already satisfied: cryptography>=37.0.0 in /opt/homebrew/lib/python3.13/site-packages (from scrapy!=2.4.0,>=2.0->scrapy-playwright) (44.0.2)\n",
      "Requirement already satisfied: cssselect>=0.9.1 in /opt/homebrew/Cellar/jupyterlab/4.3.6/libexec/lib/python3.13/site-packages (from scrapy!=2.4.0,>=2.0->scrapy-playwright) (1.3.0)\n",
      "Requirement already satisfied: itemloaders>=1.0.1 in /opt/homebrew/Cellar/jupyterlab/4.3.6/libexec/lib/python3.13/site-packages (from scrapy!=2.4.0,>=2.0->scrapy-playwright) (1.3.2)\n",
      "Requirement already satisfied: parsel>=1.5.0 in /opt/homebrew/Cellar/jupyterlab/4.3.6/libexec/lib/python3.13/site-packages (from scrapy!=2.4.0,>=2.0->scrapy-playwright) (1.10.0)\n",
      "Requirement already satisfied: pyOpenSSL>=22.0.0 in /opt/homebrew/Cellar/jupyterlab/4.3.6/libexec/lib/python3.13/site-packages (from scrapy!=2.4.0,>=2.0->scrapy-playwright) (25.0.0)\n",
      "Requirement already satisfied: queuelib>=1.4.2 in /opt/homebrew/Cellar/jupyterlab/4.3.6/libexec/lib/python3.13/site-packages (from scrapy!=2.4.0,>=2.0->scrapy-playwright) (1.7.0)\n",
      "Requirement already satisfied: service-identity>=18.1.0 in /opt/homebrew/Cellar/jupyterlab/4.3.6/libexec/lib/python3.13/site-packages (from scrapy!=2.4.0,>=2.0->scrapy-playwright) (24.2.0)\n",
      "Requirement already satisfied: w3lib>=1.17.0 in /opt/homebrew/Cellar/jupyterlab/4.3.6/libexec/lib/python3.13/site-packages (from scrapy!=2.4.0,>=2.0->scrapy-playwright) (2.3.1)\n",
      "Requirement already satisfied: zope.interface>=5.1.0 in /opt/homebrew/Cellar/jupyterlab/4.3.6/libexec/lib/python3.13/site-packages (from scrapy!=2.4.0,>=2.0->scrapy-playwright) (7.2)\n",
      "Requirement already satisfied: protego>=0.1.15 in /opt/homebrew/Cellar/jupyterlab/4.3.6/libexec/lib/python3.13/site-packages (from scrapy!=2.4.0,>=2.0->scrapy-playwright) (0.4.0)\n",
      "Requirement already satisfied: itemadapter>=0.1.0 in /opt/homebrew/Cellar/jupyterlab/4.3.6/libexec/lib/python3.13/site-packages (from scrapy!=2.4.0,>=2.0->scrapy-playwright) (0.11.0)\n",
      "Requirement already satisfied: packaging in /opt/homebrew/Cellar/jupyterlab/4.3.6/libexec/lib/python3.13/site-packages (from scrapy!=2.4.0,>=2.0->scrapy-playwright) (24.2)\n",
      "Requirement already satisfied: tldextract in /opt/homebrew/Cellar/jupyterlab/4.3.6/libexec/lib/python3.13/site-packages (from scrapy!=2.4.0,>=2.0->scrapy-playwright) (5.1.3)\n",
      "Requirement already satisfied: lxml>=4.6.0 in /opt/homebrew/Cellar/jupyterlab/4.3.6/libexec/lib/python3.13/site-packages (from scrapy!=2.4.0,>=2.0->scrapy-playwright) (5.3.1)\n",
      "Requirement already satisfied: defusedxml>=0.7.1 in /opt/homebrew/Cellar/jupyterlab/4.3.6/libexec/lib/python3.13/site-packages (from scrapy!=2.4.0,>=2.0->scrapy-playwright) (0.7.1)\n",
      "Requirement already satisfied: PyDispatcher>=2.0.5 in /opt/homebrew/Cellar/jupyterlab/4.3.6/libexec/lib/python3.13/site-packages (from scrapy!=2.4.0,>=2.0->scrapy-playwright) (2.0.7)\n",
      "Requirement already satisfied: cffi>=1.12 in /opt/homebrew/Cellar/jupyterlab/4.3.6/libexec/lib/python3.13/site-packages (from cryptography>=37.0.0->scrapy!=2.4.0,>=2.0->scrapy-playwright) (1.17.1)\n",
      "Requirement already satisfied: jmespath>=0.9.5 in /opt/homebrew/Cellar/jupyterlab/4.3.6/libexec/lib/python3.13/site-packages (from itemloaders>=1.0.1->scrapy!=2.4.0,>=2.0->scrapy-playwright) (1.0.1)\n",
      "Requirement already satisfied: typing-extensions in /opt/homebrew/Cellar/jupyterlab/4.3.6/libexec/lib/python3.13/site-packages (from pyee<13,>=12->playwright>=1.15->scrapy-playwright) (4.12.2)\n",
      "Requirement already satisfied: attrs>=19.1.0 in /opt/homebrew/Cellar/jupyterlab/4.3.6/libexec/lib/python3.13/site-packages (from service-identity>=18.1.0->scrapy!=2.4.0,>=2.0->scrapy-playwright) (25.3.0)\n",
      "Requirement already satisfied: pyasn1 in /opt/homebrew/Cellar/jupyterlab/4.3.6/libexec/lib/python3.13/site-packages (from service-identity>=18.1.0->scrapy!=2.4.0,>=2.0->scrapy-playwright) (0.6.1)\n",
      "Requirement already satisfied: pyasn1-modules in /opt/homebrew/Cellar/jupyterlab/4.3.6/libexec/lib/python3.13/site-packages (from service-identity>=18.1.0->scrapy!=2.4.0,>=2.0->scrapy-playwright) (0.4.2)\n",
      "Requirement already satisfied: automat>=24.8.0 in /opt/homebrew/Cellar/jupyterlab/4.3.6/libexec/lib/python3.13/site-packages (from Twisted>=21.7.0->scrapy!=2.4.0,>=2.0->scrapy-playwright) (24.8.1)\n",
      "Requirement already satisfied: constantly>=15.1 in /opt/homebrew/Cellar/jupyterlab/4.3.6/libexec/lib/python3.13/site-packages (from Twisted>=21.7.0->scrapy!=2.4.0,>=2.0->scrapy-playwright) (23.10.4)\n",
      "Requirement already satisfied: hyperlink>=17.1.1 in /opt/homebrew/Cellar/jupyterlab/4.3.6/libexec/lib/python3.13/site-packages (from Twisted>=21.7.0->scrapy!=2.4.0,>=2.0->scrapy-playwright) (21.0.0)\n",
      "Requirement already satisfied: incremental>=24.7.0 in /opt/homebrew/Cellar/jupyterlab/4.3.6/libexec/lib/python3.13/site-packages (from Twisted>=21.7.0->scrapy!=2.4.0,>=2.0->scrapy-playwright) (24.7.2)\n",
      "Requirement already satisfied: setuptools in /opt/homebrew/Cellar/jupyterlab/4.3.6/libexec/lib/python3.13/site-packages (from zope.interface>=5.1.0->scrapy!=2.4.0,>=2.0->scrapy-playwright) (76.0.0)\n",
      "Requirement already satisfied: idna in /opt/homebrew/Cellar/jupyterlab/4.3.6/libexec/lib/python3.13/site-packages (from tldextract->scrapy!=2.4.0,>=2.0->scrapy-playwright) (3.10)\n",
      "Requirement already satisfied: requests>=2.1.0 in /opt/homebrew/Cellar/jupyterlab/4.3.6/libexec/lib/python3.13/site-packages (from tldextract->scrapy!=2.4.0,>=2.0->scrapy-playwright) (2.32.3)\n",
      "Requirement already satisfied: requests-file>=1.4 in /opt/homebrew/Cellar/jupyterlab/4.3.6/libexec/lib/python3.13/site-packages (from tldextract->scrapy!=2.4.0,>=2.0->scrapy-playwright) (2.1.0)\n",
      "Requirement already satisfied: filelock>=3.0.8 in /opt/homebrew/Cellar/jupyterlab/4.3.6/libexec/lib/python3.13/site-packages (from tldextract->scrapy!=2.4.0,>=2.0->scrapy-playwright) (3.18.0)\n",
      "Requirement already satisfied: pycparser in /opt/homebrew/Cellar/jupyterlab/4.3.6/libexec/lib/python3.13/site-packages (from cffi>=1.12->cryptography>=37.0.0->scrapy!=2.4.0,>=2.0->scrapy-playwright) (2.22)\n",
      "Requirement already satisfied: charset_normalizer<4,>=2 in /opt/homebrew/Cellar/jupyterlab/4.3.6/libexec/lib/python3.13/site-packages (from requests>=2.1.0->tldextract->scrapy!=2.4.0,>=2.0->scrapy-playwright) (3.4.1)\n",
      "Requirement already satisfied: urllib3<3,>=1.21.1 in /opt/homebrew/Cellar/jupyterlab/4.3.6/libexec/lib/python3.13/site-packages (from requests>=2.1.0->tldextract->scrapy!=2.4.0,>=2.0->scrapy-playwright) (2.3.0)\n",
      "Requirement already satisfied: certifi>=2017.4.17 in /opt/homebrew/opt/certifi/lib/python3.13/site-packages (from requests>=2.1.0->tldextract->scrapy!=2.4.0,>=2.0->scrapy-playwright) (2025.1.31)\n",
      "\n",
      "\u001b[1m[\u001b[0m\u001b[34;49mnotice\u001b[0m\u001b[1;39;49m]\u001b[0m\u001b[39;49m A new release of pip is available: \u001b[0m\u001b[31;49m25.0\u001b[0m\u001b[39;49m -> \u001b[0m\u001b[32;49m25.0.1\u001b[0m\n",
      "\u001b[1m[\u001b[0m\u001b[34;49mnotice\u001b[0m\u001b[1;39;49m]\u001b[0m\u001b[39;49m To update, run: \u001b[0m\u001b[32;49m/opt/homebrew/Cellar/jupyterlab/4.3.6/libexec/bin/python -m pip install --upgrade pip\u001b[0m\n"
     ]
    }
   ],
   "source": [
    "import sys\n",
    "!{sys.executable} -m pip install scrapy-playwright"
   ]
  },
  {
   "cell_type": "code",
   "execution_count": null,
   "id": "3a0e0677-a2d3-4f67-91b4-53d75d0fad95",
   "metadata": {},
   "outputs": [],
   "source": []
  }
 ],
 "metadata": {
  "kernelspec": {
   "display_name": "Python 3 (ipykernel)",
   "language": "python",
   "name": "python3"
  },
  "language_info": {
   "codemirror_mode": {
    "name": "ipython",
    "version": 3
   },
   "file_extension": ".py",
   "mimetype": "text/x-python",
   "name": "python",
   "nbconvert_exporter": "python",
   "pygments_lexer": "ipython3",
   "version": "3.13.2"
  }
 },
 "nbformat": 4,
 "nbformat_minor": 5
}
